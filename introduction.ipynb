name=(input("what is your name ?"))

num=int(1,2)
sum=0
sum=sum+num
print("total",sum)


#operations

a=int(input('a is:'))
b=int(input('b is:'))
if a<b:
    print(a,' is  less than ',b)
elif a==b:
    print(a,' is equal to ',b)
else:
    print(a,' is greater than ',b)
    


def num(a,b):
    if a<b:
        print(a,' is less than ',b)
    elif a==b:
        print(a,' is equal to ',b)
    else:
        print(a,' is greater than ',b)
    return num
num(200,300)


#loops

#finding the eigen values of a matrix
import numpy as np
from numpy.linalg import eig
A=np.array([[7,0,-3],[-3,-2,-9],[-8,0,18]])
T=np.transpose(A)
print("the transpose of a matrix is",T)
det=np.linalg.det(A)
print("the determinant of a matrix is",det)
B=A.reshape(1,9)
print(B)

